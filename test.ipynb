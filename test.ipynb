{
 "cells": [
  {
   "cell_type": "code",
   "execution_count": 1,
   "metadata": {},
   "outputs": [],
   "source": [
    "from pymarketng.application.Mechanism import Average_Mechanism, Macafee_mechanism, TradeReduction_mechanism, VCG_Mechanism\n",
    "from pymarketng.application.BidManager import BidManager\n",
    "from pymarketng.application.Plot import plot_demand_curves, plot_trades_as_graph\n",
    "\n",
    "from pymarketng.domain.Bid import Bid\n",
    "import numpy as np\n",
    "import matplotlib.pyplot as plt\n",
    "%matplotlib inline\n"
   ]
  },
  {
   "cell_type": "code",
   "execution_count": 2,
   "metadata": {},
   "outputs": [
    {
     "data": {
      "text/plain": [
       "4"
      ]
     },
     "execution_count": 2,
     "metadata": {},
     "output_type": "execute_result"
    }
   ],
   "source": [
    "bm = BidManager()\n",
    "\n",
    "bm.add_bid(Bid(10.0, 0))\n",
    "bm.add_bid(Bid(20.0, 1))\n",
    "bm.add_bid(Bid(30.0, 2))\n",
    "bm.add_bid(Bid(55.0, 9))\n",
    "bm.add_bid(Bid(56.0, 10))\n",
    "bm.add_bid(Bid(57.0, 11))\n",
    "bm.add_bid(Bid(58.0, 12))\n",
    "bm.add_bid(Bid(59.0, 13))\n",
    "bm.add_bid(Bid(41.0, 15, buying=False))\n",
    "bm.add_bid(Bid(42.0, 16, buying=False))\n",
    "bm.add_bid(Bid(45.0, 20, buying=False))\n",
    "bm.add_bid(Bid(51.0, 21, buying=False))\n",
    "bm.add_bid(Bid(52.0, 22, buying=False))\n",
    "bm.add_bid(Bid(53.0, 23, buying=False))\n",
    "bm.add_bid(Bid(58.0, 24, buying=False))\n",
    "\n",
    "\n",
    "bm.get_breakeven_index()"
   ]
  },
  {
   "cell_type": "code",
   "execution_count": 3,
   "metadata": {},
   "outputs": [
    {
     "data": {
      "text/html": [
       "<div>\n",
       "<style scoped>\n",
       "    .dataframe tbody tr th:only-of-type {\n",
       "        vertical-align: middle;\n",
       "    }\n",
       "\n",
       "    .dataframe tbody tr th {\n",
       "        vertical-align: top;\n",
       "    }\n",
       "\n",
       "    .dataframe thead th {\n",
       "        text-align: right;\n",
       "    }\n",
       "</style>\n",
       "<table border=\"1\" class=\"dataframe\">\n",
       "  <thead>\n",
       "    <tr style=\"text-align: right;\">\n",
       "      <th></th>\n",
       "      <th>buyyer_bid</th>\n",
       "      <th>seller_bid</th>\n",
       "      <th>buy_price</th>\n",
       "      <th>sell_price</th>\n",
       "    </tr>\n",
       "  </thead>\n",
       "  <tbody>\n",
       "    <tr>\n",
       "      <th>0</th>\n",
       "      <td>1.0 * 59.0</td>\n",
       "      <td>1.0 * 41.0</td>\n",
       "      <td>53.5</td>\n",
       "      <td>53.5</td>\n",
       "    </tr>\n",
       "    <tr>\n",
       "      <th>1</th>\n",
       "      <td>1.0 * 58.0</td>\n",
       "      <td>1.0 * 42.0</td>\n",
       "      <td>53.5</td>\n",
       "      <td>53.5</td>\n",
       "    </tr>\n",
       "    <tr>\n",
       "      <th>2</th>\n",
       "      <td>1.0 * 57.0</td>\n",
       "      <td>1.0 * 45.0</td>\n",
       "      <td>53.5</td>\n",
       "      <td>53.5</td>\n",
       "    </tr>\n",
       "    <tr>\n",
       "      <th>3</th>\n",
       "      <td>1.0 * 56.0</td>\n",
       "      <td>1.0 * 51.0</td>\n",
       "      <td>53.5</td>\n",
       "      <td>53.5</td>\n",
       "    </tr>\n",
       "  </tbody>\n",
       "</table>\n",
       "</div>"
      ],
      "text/plain": [
       "   buyyer_bid  seller_bid  buy_price  sell_price\n",
       "0  1.0 * 59.0  1.0 * 41.0       53.5        53.5\n",
       "1  1.0 * 58.0  1.0 * 42.0       53.5        53.5\n",
       "2  1.0 * 57.0  1.0 * 45.0       53.5        53.5\n",
       "3  1.0 * 56.0  1.0 * 51.0       53.5        53.5"
      ]
     },
     "execution_count": 3,
     "metadata": {},
     "output_type": "execute_result"
    }
   ],
   "source": [
    "m=bm.run(Average_Mechanism)\n",
    "m.get_df()"
   ]
  },
  {
   "cell_type": "code",
   "execution_count": 4,
   "metadata": {},
   "outputs": [
    {
     "data": {
      "text/html": [
       "<div>\n",
       "<style scoped>\n",
       "    .dataframe tbody tr th:only-of-type {\n",
       "        vertical-align: middle;\n",
       "    }\n",
       "\n",
       "    .dataframe tbody tr th {\n",
       "        vertical-align: top;\n",
       "    }\n",
       "\n",
       "    .dataframe thead th {\n",
       "        text-align: right;\n",
       "    }\n",
       "</style>\n",
       "<table border=\"1\" class=\"dataframe\">\n",
       "  <thead>\n",
       "    <tr style=\"text-align: right;\">\n",
       "      <th></th>\n",
       "      <th>buyyer_bid</th>\n",
       "      <th>seller_bid</th>\n",
       "      <th>buy_price</th>\n",
       "      <th>sell_price</th>\n",
       "    </tr>\n",
       "  </thead>\n",
       "  <tbody>\n",
       "    <tr>\n",
       "      <th>0</th>\n",
       "      <td>1.0 * 59.0</td>\n",
       "      <td>1.0 * 41.0</td>\n",
       "      <td>52.0</td>\n",
       "      <td>55.0</td>\n",
       "    </tr>\n",
       "    <tr>\n",
       "      <th>1</th>\n",
       "      <td>1.0 * 58.0</td>\n",
       "      <td>1.0 * 42.0</td>\n",
       "      <td>52.0</td>\n",
       "      <td>55.0</td>\n",
       "    </tr>\n",
       "    <tr>\n",
       "      <th>2</th>\n",
       "      <td>1.0 * 57.0</td>\n",
       "      <td>1.0 * 45.0</td>\n",
       "      <td>52.0</td>\n",
       "      <td>55.0</td>\n",
       "    </tr>\n",
       "    <tr>\n",
       "      <th>3</th>\n",
       "      <td>1.0 * 56.0</td>\n",
       "      <td>1.0 * 51.0</td>\n",
       "      <td>52.0</td>\n",
       "      <td>55.0</td>\n",
       "    </tr>\n",
       "  </tbody>\n",
       "</table>\n",
       "</div>"
      ],
      "text/plain": [
       "   buyyer_bid  seller_bid  buy_price  sell_price\n",
       "0  1.0 * 59.0  1.0 * 41.0       52.0        55.0\n",
       "1  1.0 * 58.0  1.0 * 42.0       52.0        55.0\n",
       "2  1.0 * 57.0  1.0 * 45.0       52.0        55.0\n",
       "3  1.0 * 56.0  1.0 * 51.0       52.0        55.0"
      ]
     },
     "execution_count": 4,
     "metadata": {},
     "output_type": "execute_result"
    }
   ],
   "source": [
    "m=bm.run(VCG_Mechanism)\n",
    "m.get_df()"
   ]
  },
  {
   "cell_type": "code",
   "execution_count": 5,
   "metadata": {},
   "outputs": [
    {
     "data": {
      "text/html": [
       "<div>\n",
       "<style scoped>\n",
       "    .dataframe tbody tr th:only-of-type {\n",
       "        vertical-align: middle;\n",
       "    }\n",
       "\n",
       "    .dataframe tbody tr th {\n",
       "        vertical-align: top;\n",
       "    }\n",
       "\n",
       "    .dataframe thead th {\n",
       "        text-align: right;\n",
       "    }\n",
       "</style>\n",
       "<table border=\"1\" class=\"dataframe\">\n",
       "  <thead>\n",
       "    <tr style=\"text-align: right;\">\n",
       "      <th></th>\n",
       "      <th>buyyer_bid</th>\n",
       "      <th>seller_bid</th>\n",
       "      <th>buy_price</th>\n",
       "      <th>sell_price</th>\n",
       "    </tr>\n",
       "  </thead>\n",
       "  <tbody>\n",
       "    <tr>\n",
       "      <th>0</th>\n",
       "      <td>1.0 * 59.0</td>\n",
       "      <td>1.0 * 41.0</td>\n",
       "      <td>55.0</td>\n",
       "      <td>52.0</td>\n",
       "    </tr>\n",
       "    <tr>\n",
       "      <th>1</th>\n",
       "      <td>1.0 * 58.0</td>\n",
       "      <td>1.0 * 42.0</td>\n",
       "      <td>55.0</td>\n",
       "      <td>52.0</td>\n",
       "    </tr>\n",
       "    <tr>\n",
       "      <th>2</th>\n",
       "      <td>1.0 * 57.0</td>\n",
       "      <td>1.0 * 45.0</td>\n",
       "      <td>55.0</td>\n",
       "      <td>52.0</td>\n",
       "    </tr>\n",
       "  </tbody>\n",
       "</table>\n",
       "</div>"
      ],
      "text/plain": [
       "   buyyer_bid  seller_bid  buy_price  sell_price\n",
       "0  1.0 * 59.0  1.0 * 41.0       55.0        52.0\n",
       "1  1.0 * 58.0  1.0 * 42.0       55.0        52.0\n",
       "2  1.0 * 57.0  1.0 * 45.0       55.0        52.0"
      ]
     },
     "execution_count": 5,
     "metadata": {},
     "output_type": "execute_result"
    }
   ],
   "source": [
    "m=bm.run(TradeReduction_mechanism)\n",
    "m.get_df()"
   ]
  },
  {
   "cell_type": "code",
   "execution_count": 6,
   "metadata": {},
   "outputs": [
    {
     "data": {
      "text/html": [
       "<div>\n",
       "<style scoped>\n",
       "    .dataframe tbody tr th:only-of-type {\n",
       "        vertical-align: middle;\n",
       "    }\n",
       "\n",
       "    .dataframe tbody tr th {\n",
       "        vertical-align: top;\n",
       "    }\n",
       "\n",
       "    .dataframe thead th {\n",
       "        text-align: right;\n",
       "    }\n",
       "</style>\n",
       "<table border=\"1\" class=\"dataframe\">\n",
       "  <thead>\n",
       "    <tr style=\"text-align: right;\">\n",
       "      <th></th>\n",
       "      <th>buyyer_bid</th>\n",
       "      <th>seller_bid</th>\n",
       "      <th>buy_price</th>\n",
       "      <th>sell_price</th>\n",
       "    </tr>\n",
       "  </thead>\n",
       "  <tbody>\n",
       "    <tr>\n",
       "      <th>0</th>\n",
       "      <td>1.0 * 59.0</td>\n",
       "      <td>1.0 * 41.0</td>\n",
       "      <td>1.0 * 55.0</td>\n",
       "      <td>1.0 * 52.0</td>\n",
       "    </tr>\n",
       "    <tr>\n",
       "      <th>1</th>\n",
       "      <td>1.0 * 58.0</td>\n",
       "      <td>1.0 * 42.0</td>\n",
       "      <td>1.0 * 55.0</td>\n",
       "      <td>1.0 * 52.0</td>\n",
       "    </tr>\n",
       "    <tr>\n",
       "      <th>2</th>\n",
       "      <td>1.0 * 57.0</td>\n",
       "      <td>1.0 * 45.0</td>\n",
       "      <td>1.0 * 55.0</td>\n",
       "      <td>1.0 * 52.0</td>\n",
       "    </tr>\n",
       "  </tbody>\n",
       "</table>\n",
       "</div>"
      ],
      "text/plain": [
       "   buyyer_bid  seller_bid   buy_price  sell_price\n",
       "0  1.0 * 59.0  1.0 * 41.0  1.0 * 55.0  1.0 * 52.0\n",
       "1  1.0 * 58.0  1.0 * 42.0  1.0 * 55.0  1.0 * 52.0\n",
       "2  1.0 * 57.0  1.0 * 45.0  1.0 * 55.0  1.0 * 52.0"
      ]
     },
     "execution_count": 6,
     "metadata": {},
     "output_type": "execute_result"
    }
   ],
   "source": [
    "m=bm.run(Macafee_mechanism)\n",
    "m.get_df()"
   ]
  },
  {
   "cell_type": "code",
   "execution_count": 7,
   "metadata": {},
   "outputs": [
    {
     "data": {
      "image/png": "[encoded data removed]",
      "text/plain": [
       "<Figure size 640x480 with 1 Axes>"
      ]
     },
     "metadata": {},
     "output_type": "display_data"
    }
   ],
   "source": [
    "bm.plot()"
   ]
  },
  {
   "cell_type": "code",
   "execution_count": null,
   "metadata": {},
   "outputs": [],
   "source": []
  }
 ],
 "metadata": {
  "kernelspec": {
   "display_name": "Python 3 (ipykernel)",
   "language": "python",
   "name": "python3"
  },
  "language_info": {
   "codemirror_mode": {
    "name": "ipython",
    "version": 3
   },
   "file_extension": ".py",
   "mimetype": "text/x-python",
   "name": "python",
   "nbconvert_exporter": "python",
   "pygments_lexer": "ipython3",
   "version": "3.11.5"
  }
 },
 "nbformat": 4,
 "nbformat_minor": 2
}
